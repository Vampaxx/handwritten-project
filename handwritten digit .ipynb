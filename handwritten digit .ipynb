{
 "cells": [
  {
   "cell_type": "code",
   "execution_count": 2,
   "id": "ea6f4671",
   "metadata": {},
   "outputs": [],
   "source": [
    "from tensorflow import keras\n",
    "from tensorflow.keras import Sequential\n",
    "from tensorflow.keras.layers import Dense,Flatten\n",
    "import matplotlib.pyplot as plt\n",
    "import tensorflow as tf\n",
    "\n",
    "import numpy as np\n",
    "import keras.datasets"
   ]
  },
  {
   "cell_type": "markdown",
   "id": "63c96a4b",
   "metadata": {},
   "source": [
    "## 1.1 Load the dataset "
   ]
  },
  {
   "cell_type": "code",
   "execution_count": 3,
   "id": "0839543e",
   "metadata": {},
   "outputs": [],
   "source": [
    "(x_train,y_train), (x_test, y_test) = keras.datasets.mnist.load_data()"
   ]
  },
  {
   "cell_type": "code",
   "execution_count": 4,
   "id": "c5ab4cac",
   "metadata": {},
   "outputs": [
    {
     "data": {
      "text/plain": [
       "((60000, 28, 28), (10000, 28, 28))"
      ]
     },
     "execution_count": 4,
     "metadata": {},
     "output_type": "execute_result"
    }
   ],
   "source": [
    "x_train.shape, x_test.shape"
   ]
  },
  {
   "cell_type": "code",
   "execution_count": 5,
   "id": "0f9678ce",
   "metadata": {},
   "outputs": [
    {
     "data": {
      "text/plain": [
       "((60000,), (10000,))"
      ]
     },
     "execution_count": 5,
     "metadata": {},
     "output_type": "execute_result"
    }
   ],
   "source": [
    "y_train.shape, y_test.shape"
   ]
  },
  {
   "cell_type": "markdown",
   "id": "975cd35f",
   "metadata": {},
   "source": [
    "## 1.2 Preprocessing "
   ]
  },
  {
   "cell_type": "code",
   "execution_count": 6,
   "id": "84e48371",
   "metadata": {},
   "outputs": [],
   "source": [
    "def preprocessing(data):\n",
    "    data = data/255.0\n",
    "    return data"
   ]
  },
  {
   "cell_type": "code",
   "execution_count": 7,
   "id": "3ce22ebf",
   "metadata": {},
   "outputs": [],
   "source": [
    "x1_train  = preprocessing(x_train)\n",
    "x1_test   = preprocessing(x_test)"
   ]
  },
  {
   "cell_type": "markdown",
   "id": "b172b06e",
   "metadata": {},
   "source": [
    "## 1.3 Reshape the dataset"
   ]
  },
  {
   "cell_type": "code",
   "execution_count": 8,
   "id": "e6a76c2c",
   "metadata": {},
   "outputs": [],
   "source": [
    "re_train = tf.expand_dims(x1_train, axis=-1)\n",
    "re_test  = tf.expand_dims(x1_test , axis=-1)\n"
   ]
  },
  {
   "cell_type": "code",
   "execution_count": 9,
   "id": "e6c59fbb",
   "metadata": {
    "scrolled": true
   },
   "outputs": [],
   "source": [
    "## create pipe line for data\n",
    "train = tf.data.Dataset.from_tensor_slices((re_train,y_train))\n",
    "test  = tf.data.Dataset.from_tensor_slices((re_test,y_test))"
   ]
  },
  {
   "cell_type": "markdown",
   "id": "b1b83eaa",
   "metadata": {},
   "source": [
    "## 1.4 Buid test and train partition"
   ]
  },
  {
   "cell_type": "code",
   "execution_count": 10,
   "id": "a70dcefe",
   "metadata": {},
   "outputs": [],
   "source": [
    "train1 = train.batch(32)\n",
    "train1 = train1.prefetch(16)"
   ]
  },
  {
   "cell_type": "code",
   "execution_count": 11,
   "id": "9d349749",
   "metadata": {},
   "outputs": [],
   "source": [
    "test1 = test.batch(32)\n",
    "test1 = test1.prefetch(16)"
   ]
  },
  {
   "cell_type": "code",
   "execution_count": 12,
   "id": "b96b14bc",
   "metadata": {},
   "outputs": [
    {
     "data": {
      "text/plain": [
       "(32,)"
      ]
     },
     "execution_count": 12,
     "metadata": {},
     "output_type": "execute_result"
    }
   ],
   "source": [
    "test1.as_numpy_iterator().next()[1].shape"
   ]
  },
  {
   "cell_type": "markdown",
   "id": "258d0aec",
   "metadata": {},
   "source": [
    "# 2 Model Creation"
   ]
  },
  {
   "cell_type": "code",
   "execution_count": 13,
   "id": "0cd649ec",
   "metadata": {},
   "outputs": [],
   "source": [
    "from tensorflow.keras.models import Sequential\n",
    "from tensorflow.keras.layers import Conv2D,Dense,MaxPooling2D,Flatten,Dropout"
   ]
  },
  {
   "cell_type": "code",
   "execution_count": 14,
   "id": "758187a0",
   "metadata": {},
   "outputs": [],
   "source": [
    "model= Sequential()\n",
    "\n",
    "model.add(Conv2D(32, (3,3), input_shape=(28,28,1)))\n",
    "model.add(MaxPooling2D())\n",
    "\n",
    "model.add(Conv2D(32, (3,3), activation='relu'))\n",
    "model.add(MaxPooling2D())\n",
    "\n",
    "\n",
    "model.add(Flatten())\n",
    "model.add(Dense(10, activation= 'relu'))\n",
    "model.add(Dense(10, activation= 'softmax'))\n",
    "\n",
    "\n"
   ]
  },
  {
   "cell_type": "code",
   "execution_count": 15,
   "id": "96d25551",
   "metadata": {},
   "outputs": [
    {
     "name": "stdout",
     "output_type": "stream",
     "text": [
      "Model: \"sequential\"\n",
      "_________________________________________________________________\n",
      " Layer (type)                Output Shape              Param #   \n",
      "=================================================================\n",
      " conv2d (Conv2D)             (None, 26, 26, 32)        320       \n",
      "                                                                 \n",
      " max_pooling2d (MaxPooling2D  (None, 13, 13, 32)       0         \n",
      " )                                                               \n",
      "                                                                 \n",
      " conv2d_1 (Conv2D)           (None, 11, 11, 32)        9248      \n",
      "                                                                 \n",
      " max_pooling2d_1 (MaxPooling  (None, 5, 5, 32)         0         \n",
      " 2D)                                                             \n",
      "                                                                 \n",
      " flatten (Flatten)           (None, 800)               0         \n",
      "                                                                 \n",
      " dense (Dense)               (None, 10)                8010      \n",
      "                                                                 \n",
      " dense_1 (Dense)             (None, 10)                110       \n",
      "                                                                 \n",
      "=================================================================\n",
      "Total params: 17,688\n",
      "Trainable params: 17,688\n",
      "Non-trainable params: 0\n",
      "_________________________________________________________________\n"
     ]
    }
   ],
   "source": [
    "model.summary()"
   ]
  },
  {
   "cell_type": "code",
   "execution_count": 16,
   "id": "005e8031",
   "metadata": {},
   "outputs": [],
   "source": [
    "early_stopping_cb = keras.callbacks.EarlyStopping(patience=10,restore_best_weights=True)\n"
   ]
  },
  {
   "cell_type": "code",
   "execution_count": 17,
   "id": "8d3b2301",
   "metadata": {
    "scrolled": true
   },
   "outputs": [],
   "source": [
    "model.compile(optimizer='adam' ,loss='sparse_categorical_crossentropy', metrics= ['accuracy'] )"
   ]
  },
  {
   "cell_type": "code",
   "execution_count": 18,
   "id": "e61d624f",
   "metadata": {
    "scrolled": false
   },
   "outputs": [
    {
     "name": "stdout",
     "output_type": "stream",
     "text": [
      "Epoch 1/10\n",
      "1875/1875 [==============================] - 13s 4ms/step - loss: 0.3132 - accuracy: 0.9050 - val_loss: 0.1286 - val_accuracy: 0.9619\n",
      "Epoch 2/10\n",
      "1875/1875 [==============================] - 7s 4ms/step - loss: 0.1027 - accuracy: 0.9689 - val_loss: 0.0800 - val_accuracy: 0.9767\n",
      "Epoch 3/10\n",
      "1875/1875 [==============================] - 7s 4ms/step - loss: 0.0755 - accuracy: 0.9772 - val_loss: 0.0683 - val_accuracy: 0.9777\n",
      "Epoch 4/10\n",
      "1875/1875 [==============================] - 7s 4ms/step - loss: 0.0610 - accuracy: 0.9820 - val_loss: 0.0638 - val_accuracy: 0.9793\n",
      "Epoch 5/10\n",
      "1875/1875 [==============================] - 7s 4ms/step - loss: 0.0507 - accuracy: 0.9851 - val_loss: 0.0591 - val_accuracy: 0.9808\n",
      "Epoch 6/10\n",
      "1875/1875 [==============================] - 9s 5ms/step - loss: 0.0431 - accuracy: 0.9874 - val_loss: 0.0560 - val_accuracy: 0.9817\n",
      "Epoch 7/10\n",
      "1875/1875 [==============================] - 11s 6ms/step - loss: 0.0367 - accuracy: 0.9892 - val_loss: 0.0540 - val_accuracy: 0.9824\n",
      "Epoch 8/10\n",
      "1875/1875 [==============================] - 11s 6ms/step - loss: 0.0320 - accuracy: 0.9907 - val_loss: 0.0556 - val_accuracy: 0.9828\n",
      "Epoch 9/10\n",
      "1875/1875 [==============================] - 7s 4ms/step - loss: 0.0278 - accuracy: 0.9919 - val_loss: 0.0583 - val_accuracy: 0.9829\n",
      "Epoch 10/10\n",
      "1875/1875 [==============================] - 7s 4ms/step - loss: 0.0243 - accuracy: 0.9930 - val_loss: 0.0656 - val_accuracy: 0.9808\n"
     ]
    }
   ],
   "source": [
    "hist = model.fit(train1, epochs=10, validation_data=test1,callbacks=[early_stopping_cb])"
   ]
  },
  {
   "cell_type": "code",
   "execution_count": 19,
   "id": "ed475e22",
   "metadata": {},
   "outputs": [
    {
     "data": {
      "image/png": "[encoded data removed]",
      "text/plain": [
       "<Figure size 640x480 with 1 Axes>"
      ]
     },
     "metadata": {},
     "output_type": "display_data"
    }
   ],
   "source": [
    "fig = plt.figure()\n",
    "plt.plot(hist.history['loss'], color = 'teal', label = 'loss')\n",
    "plt.plot(hist.history['val_loss'], color = 'orange', label = 'val_loss')\n",
    "fig.suptitle('loss', fontsize = 20)\n",
    "plt.legend(loc='upper right')\n",
    "plt.show()\n"
   ]
  },
  {
   "cell_type": "code",
   "execution_count": 20,
   "id": "90900b56",
   "metadata": {},
   "outputs": [
    {
     "data": {
      "image/png": "[encoded data removed]",
      "text/plain": [
       "<Figure size 640x480 with 1 Axes>"
      ]
     },
     "metadata": {},
     "output_type": "display_data"
    }
   ],
   "source": [
    "fig = plt.figure()\n",
    "plt.plot(hist.history['accuracy'], color = 'teal', label = 'loss')\n",
    "plt.plot(hist.history['val_accuracy'], color = 'orange', label = 'val_loss')\n",
    "fig.suptitle('Accuracy', fontsize = 20)\n",
    "plt.legend(loc='upper right')\n",
    "plt.show()\n"
   ]
  },
  {
   "cell_type": "code",
   "execution_count": 36,
   "id": "5bf426a7",
   "metadata": {},
   "outputs": [],
   "source": [
    "sample_test_data = test1.as_numpy_iterator().next()"
   ]
  },
  {
   "cell_type": "code",
   "execution_count": 42,
   "id": "b6bd42e2",
   "metadata": {},
   "outputs": [
    {
     "data": {
      "text/plain": [
       "(32, 28, 28, 1)"
      ]
     },
     "execution_count": 42,
     "metadata": {},
     "output_type": "execute_result"
    }
   ],
   "source": [
    "sample_test_data[0].shape"
   ]
  },
  {
   "cell_type": "code",
   "execution_count": 43,
   "id": "2818b250",
   "metadata": {},
   "outputs": [
    {
     "data": {
      "text/plain": [
       "(32,)"
      ]
     },
     "execution_count": 43,
     "metadata": {},
     "output_type": "execute_result"
    }
   ],
   "source": [
    "sample_test_data[1].shape"
   ]
  },
  {
   "cell_type": "code",
   "execution_count": 27,
   "id": "876c797d",
   "metadata": {},
   "outputs": [],
   "source": [
    "number, label = sample_test_data.next()"
   ]
  },
  {
   "cell_type": "code",
   "execution_count": 28,
   "id": "b7f82923",
   "metadata": {},
   "outputs": [
    {
     "data": {
      "text/plain": [
       "<matplotlib.image.AxesImage at 0x1a563d33fd0>"
      ]
     },
     "execution_count": 28,
     "metadata": {},
     "output_type": "execute_result"
    },
    {
     "data": {
      "image/png": "[encoded data removed]",
      "text/plain": [
       "<Figure size 640x480 with 1 Axes>"
      ]
     },
     "metadata": {},
     "output_type": "display_data"
    }
   ],
   "source": [
    "plt.imshow(number[0])"
   ]
  },
  {
   "cell_type": "markdown",
   "id": "5ce51ecb",
   "metadata": {},
   "source": [
    "# 3 Evaluation and testing"
   ]
  },
  {
   "cell_type": "markdown",
   "id": "8571ae19",
   "metadata": {},
   "source": [
    "## 3.1 Evaluation"
   ]
  },
  {
   "cell_type": "code",
   "execution_count": 24,
   "id": "66a989af",
   "metadata": {},
   "outputs": [
    {
     "name": "stdout",
     "output_type": "stream",
     "text": [
      "1/1 [==============================] - 0s 94ms/step - loss: 0.0443 - accuracy: 0.9688\n",
      "test loss on 10000 test samples 0.044334813952445984\n",
      "test accuracy on 10000 test samples 0.96875\n"
     ]
    }
   ],
   "source": [
    "test_loss , test_accuracy= model.evaluate(number, label)\n",
    "print('test loss on 10000 test samples', test_loss)\n",
    "print('test accuracy on 10000 test samples', test_accuracy)"
   ]
  },
  {
   "cell_type": "markdown",
   "id": "53fd7505",
   "metadata": {},
   "source": [
    "## 3.2 Prediction"
   ]
  },
  {
   "cell_type": "code",
   "execution_count": 47,
   "id": "2add7f65",
   "metadata": {},
   "outputs": [
    {
     "name": "stdout",
     "output_type": "stream",
     "text": [
      "1/1 [==============================] - 0s 20ms/step\n"
     ]
    }
   ],
   "source": [
    "## These predictions are based on one hot encoerding, so these values are 10 values of each test values\n",
    "pred = np.argmax(model.predict(sample_test_data[0]),axis=1)"
   ]
  },
  {
   "cell_type": "code",
   "execution_count": 48,
   "id": "04b87975",
   "metadata": {},
   "outputs": [
    {
     "data": {
      "text/plain": [
       "7"
      ]
     },
     "execution_count": 48,
     "metadata": {},
     "output_type": "execute_result"
    }
   ],
   "source": [
    "### View 10 softmax values of a sample number, each number contain, 10 values\n",
    "pred[0]"
   ]
  },
  {
   "cell_type": "code",
   "execution_count": 55,
   "id": "798710fd",
   "metadata": {},
   "outputs": [
    {
     "data": {
      "image/png": "[encoded data removed]",
      "text/plain": [
       "<Figure size 640x480 with 1 Axes>"
      ]
     },
     "metadata": {},
     "output_type": "display_data"
    }
   ],
   "source": [
    "plt.imshow(sample_test_data[0][0])\n",
    "plt.show()"
   ]
  },
  {
   "cell_type": "markdown",
   "id": "2b721a9b",
   "metadata": {},
   "source": [
    "## 3.3 Evaluation"
   ]
  },
  {
   "cell_type": "code",
   "execution_count": 63,
   "id": "25b813ff",
   "metadata": {},
   "outputs": [],
   "source": [
    "from sklearn.metrics import confusion_matrix\n",
    "import seaborn as sns\n",
    "import matplotlib.pyplot as plt"
   ]
  },
  {
   "cell_type": "code",
   "execution_count": 65,
   "id": "ee2dee98",
   "metadata": {},
   "outputs": [
    {
     "name": "stdout",
     "output_type": "stream",
     "text": [
      "1/1 [==============================] - 0s 16ms/step\n"
     ]
    }
   ],
   "source": [
    "y_true = sample_test_data[1]\n",
    "y_pred = np.argmax((model.predict(sample_test_data[0])),axis=1)"
   ]
  },
  {
   "cell_type": "code",
   "execution_count": 66,
   "id": "de550617",
   "metadata": {},
   "outputs": [
    {
     "data": {
      "image/png": "[encoded data removed]",
      "text/plain": [
       "<Figure size 800x600 with 1 Axes>"
      ]
     },
     "metadata": {},
     "output_type": "display_data"
    }
   ],
   "source": [
    "cm = confusion_matrix(y_true, y_pred)\n",
    "plt.figure(figsize=(8, 6))\n",
    "sns.heatmap(cm, annot=True, cmap='Blues', fmt='d', cbar=False)\n",
    "plt.xlabel('Predicted Labels')\n",
    "plt.ylabel('True Labels')\n",
    "plt.savefig('confusion_matrix.png')\n",
    "plt.show()"
   ]
  },
  {
   "cell_type": "code",
   "execution_count": 67,
   "id": "42f0f382",
   "metadata": {},
   "outputs": [
    {
     "name": "stdout",
     "output_type": "stream",
     "text": [
      "              precision    recall  f1-score   support\n",
      "\n",
      "           0       1.00      1.00      1.00         5\n",
      "           1       1.00      1.00      1.00         5\n",
      "           2       1.00      1.00      1.00         1\n",
      "           3       1.00      0.50      0.67         2\n",
      "           4       1.00      1.00      1.00         5\n",
      "           5       0.75      1.00      0.86         3\n",
      "           6       1.00      1.00      1.00         3\n",
      "           7       1.00      1.00      1.00         3\n",
      "           9       1.00      1.00      1.00         5\n",
      "\n",
      "    accuracy                           0.97        32\n",
      "   macro avg       0.97      0.94      0.95        32\n",
      "weighted avg       0.98      0.97      0.97        32\n",
      "\n"
     ]
    }
   ],
   "source": [
    "from sklearn.metrics import classification_report\n",
    "\n",
    "report = classification_report(y_true, y_pred)#, target_names=class_names)\n",
    "print(report)"
   ]
  },
  {
   "cell_type": "code",
   "execution_count": null,
   "id": "41c077a7",
   "metadata": {},
   "outputs": [],
   "source": []
  }
 ],
 "metadata": {
  "kernelspec": {
   "display_name": "Python 3 (ipykernel)",
   "language": "python",
   "name": "python3"
  },
  "language_info": {
   "codemirror_mode": {
    "name": "ipython",
    "version": 3
   },
   "file_extension": ".py",
   "mimetype": "text/x-python",
   "name": "python",
   "nbconvert_exporter": "python",
   "pygments_lexer": "ipython3",
   "version": "3.9.13"
  }
 },
 "nbformat": 4,
 "nbformat_minor": 5
}
